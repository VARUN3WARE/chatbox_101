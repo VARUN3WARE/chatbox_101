{
  "nbformat": 4,
  "nbformat_minor": 0,
  "metadata": {
    "colab": {
      "provenance": []
    },
    "kernelspec": {
      "name": "python3",
      "display_name": "Python 3"
    },
    "language_info": {
      "name": "python"
    }
  },
  "cells": [
    {
      "cell_type": "code",
      "source": [
        "!pip install colorama\n"
      ],
      "metadata": {
        "id": "TArsHEIzH3wa",
        "colab": {
          "base_uri": "https://localhost:8080/"
        },
        "outputId": "1835c97d-b7ef-4ffd-de41-5c6add69114a"
      },
      "execution_count": 2,
      "outputs": [
        {
          "output_type": "stream",
          "name": "stdout",
          "text": [
            "Collecting colorama\n",
            "  Downloading colorama-0.4.6-py2.py3-none-any.whl.metadata (17 kB)\n",
            "Downloading colorama-0.4.6-py2.py3-none-any.whl (25 kB)\n",
            "Installing collected packages: colorama\n",
            "Successfully installed colorama-0.4.6\n"
          ]
        }
      ]
    },
    {
      "cell_type": "code",
      "execution_count": 5,
      "metadata": {
        "id": "F0Ekk38QH059",
        "colab": {
          "base_uri": "https://localhost:8080/"
        },
        "outputId": "c78db2ac-a7a4-45f8-de5e-1582ebc55867"
      },
      "outputs": [
        {
          "name": "stdout",
          "output_type": "stream",
          "text": [
            "Start messaging with the bot (type quit to stop)!\n",
            "User: hi\n",
            "1/1 ━━━━━━━━━━━━━━━━━━━━ 0s 87ms/step\n",
            "ChatBot: Hi\n",
            "User: Who are you?\n",
            "1/1 ━━━━━━━━━━━━━━━━━━━━ 0s 42ms/step\n",
            "ChatBot: I.m Joana, your bot assistant\n",
            "User: you are\n",
            "1/1 ━━━━━━━━━━━━━━━━━━━━ 0s 51ms/step\n",
            "ChatBot: I.m Joana, your bot assistant\n",
            "User: What can you do for me?\n",
            "1/1 ━━━━━━━━━━━━━━━━━━━━ 0s 41ms/step\n",
            "ChatBot: Tell me how can assist you\n",
            "User: open a new account\n",
            "1/1 ━━━━━━━━━━━━━━━━━━━━ 0s 56ms/step\n",
            "ChatBot: Just go to our web site and follow the guidelines to create a new account\n",
            "User: open a new account\n",
            "1/1 ━━━━━━━━━━━━━━━━━━━━ 0s 43ms/step\n",
            "ChatBot: You can just easily create a new account from our web site\n",
            "User: bye\n",
            "1/1 ━━━━━━━━━━━━━━━━━━━━ 0s 42ms/step\n",
            "ChatBot: See you later\n",
            "User: thanks\n",
            "1/1 ━━━━━━━━━━━━━━━━━━━━ 0s 51ms/step\n",
            "ChatBot: Any time!\n",
            "User: quit\n"
          ]
        }
      ],
      "source": [
        "import json\n",
        "import numpy as np\n",
        "from tensorflow import keras\n",
        "from sklearn.preprocessing import LabelEncoder\n",
        "\n",
        "import colorama\n",
        "colorama.init()\n",
        "from colorama import Fore, Style, Back\n",
        "\n",
        "import random\n",
        "import pickle\n",
        "\n",
        "with open(\"/content/drive/MyDrive/chatbox/intents.json\") as file:\n",
        "    data = json.load(file)\n",
        "\n",
        "\n",
        "def chat():\n",
        "    # load trained model\n",
        "    model = keras.models.load_model('/content/drive/MyDrive/chat_model.keras')\n",
        "\n",
        "    # load tokenizer object\n",
        "    with open('/content/drive/MyDrive/tokenizer.pickle', 'rb') as handle:\n",
        "        tokenizer = pickle.load(handle)\n",
        "\n",
        "    # load label encoder object\n",
        "    with open('/content/drive/MyDrive/label_encoder.pickle', 'rb') as enc:\n",
        "        lbl_encoder = pickle.load(enc)\n",
        "\n",
        "    # parameters\n",
        "    max_len = 20\n",
        "\n",
        "    while True:\n",
        "        print(Fore.LIGHTBLUE_EX + \"User: \" + Style.RESET_ALL, end=\"\")\n",
        "        inp = input()\n",
        "        if inp.lower() == \"quit\":\n",
        "            break\n",
        "\n",
        "        result = model.predict(keras.preprocessing.sequence.pad_sequences(tokenizer.texts_to_sequences([inp]),\n",
        "                                             truncating='post', maxlen=max_len))\n",
        "        tag = lbl_encoder.inverse_transform([np.argmax(result)])\n",
        "\n",
        "        for i in data['intents']:\n",
        "            if i['tag'] == tag:\n",
        "                print(Fore.GREEN + \"ChatBot:\" + Style.RESET_ALL , np.random.choice(i['responses']))\n",
        "\n",
        "        # print(Fore.GREEN + \"ChatBot:\" + Style.RESET_ALL,random.choice(responses))\n",
        "\n",
        "print(Fore.YELLOW + \"Start messaging with the bot (type quit to stop)!\" + Style.RESET_ALL)\n",
        "chat()\n"
      ]
    },
    {
      "cell_type": "code",
      "source": [],
      "metadata": {
        "id": "xCr7003ZH6Vx"
      },
      "execution_count": null,
      "outputs": []
    }
  ]
}